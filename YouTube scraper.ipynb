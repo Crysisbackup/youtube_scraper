{
 "cells": [
  {
   "cell_type": "code",
   "execution_count": null,
   "id": "d4dc9ec1",
   "metadata": {},
   "outputs": [],
   "source": [
    "from selenium.webdriver.support import expected_conditions as EC\n",
    "from selenium.webdriver import ActionChains, Keys\n",
    "from selenium.webdriver.common.by import By\n",
    "from selenium.webdriver.support.ui import WebDriverWait\n",
    "from selenium import webdriver\n",
    "from bs4 import BeautifulSoup\n",
    "import time \n",
    "\n",
    "driver = webdriver.Chrome()\n",
    "actionChains = ActionChains(driver)\n",
    "wait = WebDriverWait(driver, 20)\n",
    "\n",
    "def wait_for_element_location_to_be_stable(element):\n",
    "    initial_location = element.location\n",
    "    previous_location = initial_location\n",
    "    start_time = time.time()\n",
    "    while time.time() - start_time < 1:\n",
    "        current_location = element.location\n",
    "        if current_location != previous_location:\n",
    "            previous_location = current_location\n",
    "            start_time = time.time()\n",
    "        time.sleep(0.4)\n",
    "\n",
    "def continuous_scroll_with_elements(by, locator):\n",
    "    while True:\n",
    "        results = wait.until(EC.presence_of_all_elements_located((by, locator)))\n",
    "        temp = results[-1]\n",
    "        actionChains.scroll_to_element(results[-1]).perform()\n",
    "        for i in range(3):\n",
    "            actionChains.send_keys(Keys.ARROW_DOWN).perform()\n",
    "            time.sleep(0.5)\n",
    "        wait_for_element_location_to_be_stable(temp)\n",
    "    \n",
    "        results = wait.until(EC.presence_of_all_elements_located((by, locator)))\n",
    "        if results[-1] == temp:\n",
    "            break\n",
    "\n",
    "driver.get(\"https://www.youtube.com/@freecodecamp/videos\")\n",
    "\n",
    "continuous_scroll_with_elements(By.CSS_SELECTOR, 'ytd-rich-grid-media[class]')\n"
   ]
  },
  {
   "cell_type": "code",
   "execution_count": null,
   "id": "9b5f1adb",
   "metadata": {},
   "outputs": [],
   "source": [
    "\n",
    "html=driver.page_source\n",
    "soup=BeautifulSoup(html, 'html.parser')"
   ]
  },
  {
   "cell_type": "code",
   "execution_count": null,
   "id": "4294b542",
   "metadata": {},
   "outputs": [],
   "source": [
    "videos=soup.find_all(\"ytd-rich-grid-media\", class_=\"style-scope ytd-rich-item-renderer\")\n"
   ]
  },
  {
   "cell_type": "code",
   "execution_count": null,
   "id": "9248a419",
   "metadata": {},
   "outputs": [],
   "source": [
    "list=[]\n",
    "for video in videos:\n",
    "    data_dict ={}\n",
    "    data_dict['title']    = video.find('a', attrs={\"class\": \"yt-simple-endpoint focus-on-expand style-scope ytd-rich-grid-media\", \"id\": \"video-title-link\"}).text\n",
    "    data_dict['url']      ='https://www.youtube.com/'+video.find('a', attrs={\"class\": \"yt-simple-endpoint focus-on-expand style-scope ytd-rich-grid-media\", \"id\": \"video-title-link\"})['href']\n",
    "    meta                  = video.find('div', attrs={\"class\": \"style-scope ytd-video-meta-block\", \"id\": \"metadata-line\"}).find_all('span') \n",
    "    data_dict['views']    = meta[0].text\n",
    "    data_dict['duration'] = meta[1].text\n",
    "    list.append(data_dict)\n",
    "    \n",
    "    "
   ]
  },
  {
   "cell_type": "code",
   "execution_count": null,
   "id": "f3b8e030",
   "metadata": {},
   "outputs": [],
   "source": [
    "data_dict"
   ]
  },
  {
   "cell_type": "code",
   "execution_count": null,
   "id": "79055036",
   "metadata": {},
   "outputs": [],
   "source": [
    "list"
   ]
  },
  {
   "cell_type": "code",
   "execution_count": null,
   "id": "ef4911ec",
   "metadata": {},
   "outputs": [],
   "source": [
    "import pandas as pd\n",
    "\n",
    "\n",
    "\n",
    "# Convert the dictionary to a DataFrame\n",
    "youtube_df = pd.DataFrame(list)\n",
    "youtube_df.to_csv('sample_output_youtube.csv', index=False)\n",
    "\n",
    "# Specify the Excel file path\n",
    "#excel_file_path = 'youtube_scraped_data.xlsx'\n",
    "\n",
    "# Write the DataFrame to an Excel file\n",
    "#df.to_excel(excel_file_path, index=False)\n",
    "\n",
    "#print(f'DataFrame successfully written to {excel_file_path}')\n",
    "\n",
    "\n"
   ]
  },
  {
   "cell_type": "code",
   "execution_count": null,
   "id": "8dd3fb43",
   "metadata": {},
   "outputs": [],
   "source": [
    "youtube_df"
   ]
  }
 ],
 "metadata": {
  "kernelspec": {
   "display_name": "Python 3 (ipykernel)",
   "language": "python",
   "name": "python3"
  },
  "language_info": {
   "codemirror_mode": {
    "name": "ipython",
    "version": 3
   },
   "file_extension": ".py",
   "mimetype": "text/x-python",
   "name": "python",
   "nbconvert_exporter": "python",
   "pygments_lexer": "ipython3",
   "version": "3.11.4"
  }
 },
 "nbformat": 4,
 "nbformat_minor": 5
}
